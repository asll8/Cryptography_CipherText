{
  "nbformat": 4,
  "nbformat_minor": 0,
  "metadata": {
    "colab": {
      "name": "Cryptography_CipherText.ipynb",
      "provenance": [],
      "include_colab_link": true
    },
    "kernelspec": {
      "name": "python3",
      "display_name": "Python 3"
    }
  },
  "cells": [
    {
      "cell_type": "markdown",
      "metadata": {
        "id": "view-in-github",
        "colab_type": "text"
      },
      "source": [
        "<a href=\"https://colab.research.google.com/github/asll8/Cryptography_CipherText/blob/master/Cryptography_CipherText.ipynb\" target=\"_parent\"><img src=\"https://colab.research.google.com/assets/colab-badge.svg\" alt=\"Open In Colab\"/></a>"
      ]
    },
    {
      "cell_type": "code",
      "metadata": {
        "id": "ACNliJhX8-KR",
        "colab_type": "code",
        "colab": {}
      },
      "source": [
        "check = True\n",
        "while check:\n",
        "  print(\"Please select one of the options below: \\n 1-Encrypt the text \\n 2-Decrypt the text \\n 3-Exit\")\n",
        "  user = input(\"Enter your choice: \")\n",
        "\n",
        "  if user not in [\"1\",\"2\",\"3\"]:\n",
        "    print(\"Invalid input !\")\n",
        "    check = False\n",
        "    break\n",
        "  else:\n",
        "    if user == \"3\":\n",
        "      print(\"Bye..\")\n",
        "      break\n",
        "    if user == \"1\":\n",
        "      plain = input(\"Please enter the plaintext: \")\n",
        "\n",
        "      text = \"\"\n",
        "\n",
        "      for ch in plain:\n",
        "        if \"A\" <= ch <= \"Z\":\n",
        "          shift = 25 - ((ord(ch)-ord(\"A\"))*2)\n",
        "          text += chr(ord(ch) + shift) \n",
        "        elif \"a\" <= ch <= \"z\":\n",
        "          shiftx = 25 -((ord(ch)-ord(\"a\"))*2)\n",
        "          text += chr(ord(ch) + shiftx)\n",
        "        else:\n",
        "          text += ch\n",
        "      print(\"Encryption of \" + plain + \" is \" + text + \" . \\n\")\n",
        "\n",
        "    if user == \"2\":\n",
        "\n",
        "      cipher = input(\"Please enter the ciphertext: \")\n",
        "\n",
        "      text = \"\"\n",
        "\n",
        "      for ch in cipher:\n",
        "        if \"A\" <= ch <= \"Z\":\n",
        "          shift = 25 - ((ord(\"Z\")-ord(ch))*2)\n",
        "          text += chr(ord(ch) - shift)\n",
        "        elif \"a\" <= ch <= \"z\":\n",
        "          shiftx = 25 -((ord(\"z\")-ord(ch))*2)\n",
        "          text += chr(ord(ch) - shiftx)\n",
        "        else:\n",
        "          text += ch\n",
        "      print(\"Decryption of \" + cipher + \" is \" + text + \" . \\n\")\n",
        "\n",
        "\n",
        "\n",
        "\n",
        "\n",
        "    \n",
        "\n",
        "  \n",
        "\n"
      ],
      "execution_count": 0,
      "outputs": []
    }
  ]
}